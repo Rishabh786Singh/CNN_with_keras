{
  "nbformat": 4,
  "nbformat_minor": 0,
  "metadata": {
    "colab": {
      "name": "CIFAR10 _USING_CNN.ipynb",
      "version": "0.3.2",
      "provenance": [],
      "collapsed_sections": [],
      "include_colab_link": true
    },
    "kernelspec": {
      "name": "python3",
      "display_name": "Python 3"
    },
    "accelerator": "GPU"
  },
  "cells": [
    {
      "cell_type": "markdown",
      "metadata": {
        "id": "view-in-github",
        "colab_type": "text"
      },
      "source": [
        "<a href=\"https://colab.research.google.com/github/Rishabh786Singh/CNN_with_keras/blob/master/CIFAR10__USING_CNN.ipynb\" target=\"_parent\"><img src=\"https://colab.research.google.com/assets/colab-badge.svg\" alt=\"Open In Colab\"/></a>"
      ]
    },
    {
      "cell_type": "code",
      "metadata": {
        "id": "XKVTkyaMS-Xi",
        "colab_type": "code",
        "colab": {}
      },
      "source": [
        "#importing important libraries\n",
        "import tensorflow as tf\n",
        "import pandas as pd\n",
        "import numpy as np\n",
        "import matplotlib.pyplot as plt\n",
        "from IPython.display import clear_output\n",
        "\n",
        "%matplotlib inline"
      ],
      "execution_count": 0,
      "outputs": []
    },
    {
      "cell_type": "code",
      "metadata": {
        "id": "Ia8kd8xMUJws",
        "colab_type": "code",
        "colab": {}
      },
      "source": [
        "#loading dataset\n",
        "from keras.datasets import cifar10\n",
        "(train_X,train_Y), (test_X,test_Y) = cifar10.load_data()"
      ],
      "execution_count": 0,
      "outputs": []
    },
    {
      "cell_type": "code",
      "metadata": {
        "id": "BrCjHiIAV2Na",
        "colab_type": "code",
        "outputId": "ac41b2c2-2f06-4bb0-9e06-e7c79dbdcdd3",
        "colab": {
          "base_uri": "https://localhost:8080/",
          "height": 51
        }
      },
      "source": [
        "print(\"Shape training dataset_X :  \",train_X.shape)\n",
        "print(\"Shape training dataset_Y : \",train_Y.shape)"
      ],
      "execution_count": 0,
      "outputs": [
        {
          "output_type": "stream",
          "text": [
            "Shape training dataset_X :   (50000, 32, 32, 3)\n",
            "Shape training dataset_Y :  (50000, 1)\n"
          ],
          "name": "stdout"
        }
      ]
    },
    {
      "cell_type": "code",
      "metadata": {
        "id": "R-17-Ew1WDTk",
        "colab_type": "code",
        "outputId": "224068a0-99ce-4cb9-8236-ea87308c42e6",
        "colab": {
          "base_uri": "https://localhost:8080/",
          "height": 34
        }
      },
      "source": [
        "#lets's check out how many unique classes present there in our data set\n",
        "classes=np.unique(train_Y)\n",
        "print(\"uniques classes are : \",classes)"
      ],
      "execution_count": 0,
      "outputs": [
        {
          "output_type": "stream",
          "text": [
            "uniques classes are :  [0 1 2 3 4 5 6 7 8 9]\n"
          ],
          "name": "stdout"
        }
      ]
    },
    {
      "cell_type": "code",
      "metadata": {
        "id": "r7mzO2CwWIAU",
        "colab_type": "code",
        "colab": {}
      },
      "source": [
        "\n",
        "#now we are just converting all things in float32 and applying maximum value normalization\n",
        "train_X = train_X.astype('float32')\n",
        "test_X = test_X.astype('float32')\n",
        "train_X = train_X / 255.\n",
        "test_X = test_X / 255."
      ],
      "execution_count": 0,
      "outputs": []
    },
    {
      "cell_type": "code",
      "metadata": {
        "id": "drBO0t5CaLBn",
        "colab_type": "code",
        "colab": {}
      },
      "source": [
        "#Now we are going to perform one_hot encoding using keras\n",
        "from keras.utils import to_categorical\n",
        "train_Y_onehot=to_categorical(train_Y)\n",
        "test_Y_onehot=to_categorical(test_Y)"
      ],
      "execution_count": 0,
      "outputs": []
    },
    {
      "cell_type": "code",
      "metadata": {
        "id": "3lhxS3U9doIJ",
        "colab_type": "code",
        "outputId": "cb7f8d79-2583-4713-815a-456e54b4f471",
        "colab": {
          "base_uri": "https://localhost:8080/",
          "height": 51
        }
      },
      "source": [
        "print(\"Original_value : \", train_Y[5])\n",
        "print(\"One_hot_encoded_value : \" ,train_Y_onehot[5])"
      ],
      "execution_count": 0,
      "outputs": [
        {
          "output_type": "stream",
          "text": [
            "Original_value :  [1]\n",
            "One_hot_encoded_value :  [0. 1. 0. 0. 0. 0. 0. 0. 0. 0.]\n"
          ],
          "name": "stdout"
        }
      ]
    },
    {
      "cell_type": "code",
      "metadata": {
        "id": "yyxxsQHneN4t",
        "colab_type": "code",
        "colab": {}
      },
      "source": [
        "from sklearn.model_selection import train_test_split"
      ],
      "execution_count": 0,
      "outputs": []
    },
    {
      "cell_type": "code",
      "metadata": {
        "id": "MW1P1nNSgQR4",
        "colab_type": "code",
        "colab": {}
      },
      "source": [
        "train_x,valid_x,train_y,valid_y=train_test_split(train_X,train_Y_onehot,test_size=0.2)"
      ],
      "execution_count": 0,
      "outputs": []
    },
    {
      "cell_type": "code",
      "metadata": {
        "id": "d3DBQV-Ugpi3",
        "colab_type": "code",
        "outputId": "c99e33d3-5876-4dce-c593-de2536a87e48",
        "colab": {
          "base_uri": "https://localhost:8080/",
          "height": 34
        }
      },
      "source": [
        "#last time check the shape\n",
        "train_x.shape,valid_x.shape,train_y.shape,valid_y.shape"
      ],
      "execution_count": 0,
      "outputs": [
        {
          "output_type": "execute_result",
          "data": {
            "text/plain": [
              "((40000, 32, 32, 3), (10000, 32, 32, 3), (40000, 10), (10000, 10))"
            ]
          },
          "metadata": {
            "tags": []
          },
          "execution_count": 49
        }
      ]
    },
    {
      "cell_type": "code",
      "metadata": {
        "id": "tDmTmVYFhvJ4",
        "colab_type": "code",
        "colab": {}
      },
      "source": [
        "#important stuff for modelling\n",
        "import keras\n",
        "from keras.models import Sequential,Input,Model\n",
        "from keras.layers import Dense, Dropout, Flatten\n",
        "from keras.layers import Conv2D, MaxPooling2D\n",
        "from keras.layers.normalization import BatchNormalization\n",
        "from keras.layers.advanced_activations import LeakyReLU"
      ],
      "execution_count": 0,
      "outputs": []
    },
    {
      "cell_type": "code",
      "metadata": {
        "id": "_Kcv1zDwiLHT",
        "colab_type": "code",
        "colab": {}
      },
      "source": [
        "batch_size = 512\n",
        "epochs = 20\n",
        "num_classes = 10"
      ],
      "execution_count": 0,
      "outputs": []
    },
    {
      "cell_type": "code",
      "metadata": {
        "id": "3zXcVzRwj_IN",
        "colab_type": "code",
        "colab": {}
      },
      "source": [
        "model=Sequential()"
      ],
      "execution_count": 0,
      "outputs": []
    },
    {
      "cell_type": "code",
      "metadata": {
        "id": "4AV3-x1MmPZt",
        "colab_type": "code",
        "colab": {}
      },
      "source": [
        "model.add(Conv2D(64,kernel_size=3,activation='relu',strides=1,padding='same',input_shape=(32,32,3)))\n",
        "model.add(Conv2D(64,kernel_size=3,activation='relu',strides=1,padding='same',input_shape=(32,32,3)))\n",
        "model.add(MaxPooling2D((2,2),strides=2,padding='valid'))\n",
        "model.add(Conv2D(128,kernel_size=3,activation='relu',strides=1,padding='same'))\n",
        "model.add(Conv2D(128,kernel_size=3,activation='relu',strides=1,padding='same'))\n",
        "model.add(MaxPooling2D((2,2),strides=2,padding='valid'))\n",
        "model.add(Conv2D(256,kernel_size=3,activation='relu',strides=1,padding='same'))\n",
        "model.add(Conv2D(256,kernel_size=3,activation='relu',strides=1,padding='same'))\n",
        "model.add(MaxPooling2D((2,2),strides=2,padding='valid'))\n",
        "model.add(Conv2D(512,kernel_size=3,activation='relu',strides=1,padding='same'))\n",
        "model.add(Conv2D(512,kernel_size=3,activation='relu',strides=1,padding='same'))\n",
        "model.add(MaxPooling2D((2,2),strides=2,padding='valid'))\n",
        "model.add(Flatten())\n",
        "model.add(Dense(8192,activation='relu'))\n",
        "model.add(Dropout(0.5))\n",
        "model.add(Dense(8192,activation='relu'))\n",
        "model.add(Dropout(0.5))\n",
        "model.add(Dense(num_classes,activation='softmax'))\n"
      ],
      "execution_count": 0,
      "outputs": []
    },
    {
      "cell_type": "code",
      "metadata": {
        "id": "AuZFdfOum6gY",
        "colab_type": "code",
        "colab": {}
      },
      "source": [
        "model.compile(loss=keras.losses.categorical_crossentropy, optimizer=keras.optimizers.Adam(),metrics=['accuracy'])"
      ],
      "execution_count": 0,
      "outputs": []
    },
    {
      "cell_type": "code",
      "metadata": {
        "id": "XWXnHnD4rs7z",
        "colab_type": "code",
        "outputId": "02aa860a-fa55-4cca-ffc0-e43a3e1d5689",
        "colab": {
          "base_uri": "https://localhost:8080/",
          "height": 748
        }
      },
      "source": [
        "model.summary()"
      ],
      "execution_count": 0,
      "outputs": [
        {
          "output_type": "stream",
          "text": [
            "_________________________________________________________________\n",
            "Layer (type)                 Output Shape              Param #   \n",
            "=================================================================\n",
            "conv2d_21 (Conv2D)           (None, 32, 32, 64)        1792      \n",
            "_________________________________________________________________\n",
            "conv2d_22 (Conv2D)           (None, 32, 32, 64)        36928     \n",
            "_________________________________________________________________\n",
            "max_pooling2d_11 (MaxPooling (None, 16, 16, 64)        0         \n",
            "_________________________________________________________________\n",
            "conv2d_23 (Conv2D)           (None, 16, 16, 128)       73856     \n",
            "_________________________________________________________________\n",
            "conv2d_24 (Conv2D)           (None, 16, 16, 128)       147584    \n",
            "_________________________________________________________________\n",
            "max_pooling2d_12 (MaxPooling (None, 8, 8, 128)         0         \n",
            "_________________________________________________________________\n",
            "conv2d_25 (Conv2D)           (None, 8, 8, 256)         295168    \n",
            "_________________________________________________________________\n",
            "conv2d_26 (Conv2D)           (None, 8, 8, 256)         590080    \n",
            "_________________________________________________________________\n",
            "max_pooling2d_13 (MaxPooling (None, 4, 4, 256)         0         \n",
            "_________________________________________________________________\n",
            "conv2d_27 (Conv2D)           (None, 4, 4, 512)         1180160   \n",
            "_________________________________________________________________\n",
            "conv2d_28 (Conv2D)           (None, 4, 4, 512)         2359808   \n",
            "_________________________________________________________________\n",
            "max_pooling2d_14 (MaxPooling (None, 2, 2, 512)         0         \n",
            "_________________________________________________________________\n",
            "flatten_4 (Flatten)          (None, 2048)              0         \n",
            "_________________________________________________________________\n",
            "dense_10 (Dense)             (None, 8192)              16785408  \n",
            "_________________________________________________________________\n",
            "dropout_7 (Dropout)          (None, 8192)              0         \n",
            "_________________________________________________________________\n",
            "dense_11 (Dense)             (None, 8192)              67117056  \n",
            "_________________________________________________________________\n",
            "dropout_8 (Dropout)          (None, 8192)              0         \n",
            "_________________________________________________________________\n",
            "dense_12 (Dense)             (None, 10)                81930     \n",
            "=================================================================\n",
            "Total params: 88,669,770\n",
            "Trainable params: 88,669,770\n",
            "Non-trainable params: 0\n",
            "_________________________________________________________________\n"
          ],
          "name": "stdout"
        }
      ]
    },
    {
      "cell_type": "code",
      "metadata": {
        "id": "-KH2r7N6rwv1",
        "colab_type": "code",
        "outputId": "74d1fd22-49e1-4ed0-daf6-027b4cd19ef8",
        "colab": {
          "base_uri": "https://localhost:8080/",
          "height": 714
        }
      },
      "source": [
        "cifar_train = model.fit(train_x, train_y, batch_size=batch_size,epochs=epochs,verbose=1,validation_data=(valid_x, valid_y))"
      ],
      "execution_count": 0,
      "outputs": [
        {
          "output_type": "stream",
          "text": [
            "Train on 40000 samples, validate on 10000 samples\n",
            "Epoch 1/20\n",
            "40000/40000 [==============================] - 25s 628us/step - loss: 2.3079 - acc: 0.0983 - val_loss: 2.3027 - val_acc: 0.1013\n",
            "Epoch 2/20\n",
            "40000/40000 [==============================] - 20s 504us/step - loss: 2.3012 - acc: 0.1013 - val_loss: 2.2830 - val_acc: 0.1243\n",
            "Epoch 3/20\n",
            "40000/40000 [==============================] - 20s 495us/step - loss: 2.0268 - acc: 0.2021 - val_loss: 1.8080 - val_acc: 0.2976\n",
            "Epoch 4/20\n",
            "40000/40000 [==============================] - 19s 487us/step - loss: 1.6693 - acc: 0.3513 - val_loss: 1.5687 - val_acc: 0.3953\n",
            "Epoch 5/20\n",
            "40000/40000 [==============================] - 20s 488us/step - loss: 1.4671 - acc: 0.4467 - val_loss: 1.3553 - val_acc: 0.4944\n",
            "Epoch 6/20\n",
            "40000/40000 [==============================] - 20s 492us/step - loss: 1.2770 - acc: 0.5302 - val_loss: 1.1811 - val_acc: 0.5661\n",
            "Epoch 7/20\n",
            "40000/40000 [==============================] - 20s 493us/step - loss: 1.1060 - acc: 0.5951 - val_loss: 1.0419 - val_acc: 0.6169\n",
            "Epoch 8/20\n",
            "40000/40000 [==============================] - 20s 493us/step - loss: 0.9845 - acc: 0.6427 - val_loss: 1.0334 - val_acc: 0.6270\n",
            "Epoch 9/20\n",
            "40000/40000 [==============================] - 20s 491us/step - loss: 0.8690 - acc: 0.6869 - val_loss: 0.8925 - val_acc: 0.6804\n",
            "Epoch 10/20\n",
            "40000/40000 [==============================] - 20s 491us/step - loss: 0.7869 - acc: 0.7210 - val_loss: 0.9149 - val_acc: 0.6770\n",
            "Epoch 11/20\n",
            "40000/40000 [==============================] - 20s 489us/step - loss: 0.6988 - acc: 0.7532 - val_loss: 0.9541 - val_acc: 0.6748\n",
            "Epoch 12/20\n",
            "40000/40000 [==============================] - 20s 490us/step - loss: 0.6428 - acc: 0.7741 - val_loss: 0.8532 - val_acc: 0.7088\n",
            "Epoch 13/20\n",
            "40000/40000 [==============================] - 20s 489us/step - loss: 0.5589 - acc: 0.8036 - val_loss: 0.8099 - val_acc: 0.7254\n",
            "Epoch 14/20\n",
            "40000/40000 [==============================] - 20s 489us/step - loss: 0.4842 - acc: 0.8316 - val_loss: 0.7854 - val_acc: 0.7394\n",
            "Epoch 15/20\n",
            "40000/40000 [==============================] - 20s 489us/step - loss: 0.4303 - acc: 0.8506 - val_loss: 0.7992 - val_acc: 0.7454\n",
            "Epoch 16/20\n",
            "40000/40000 [==============================] - 20s 490us/step - loss: 0.4049 - acc: 0.8600 - val_loss: 0.9047 - val_acc: 0.7255\n",
            "Epoch 17/20\n",
            "40000/40000 [==============================] - 20s 489us/step - loss: 0.3401 - acc: 0.8821 - val_loss: 0.8589 - val_acc: 0.7509\n",
            "Epoch 18/20\n",
            "40000/40000 [==============================] - 20s 489us/step - loss: 0.3020 - acc: 0.8967 - val_loss: 0.9388 - val_acc: 0.7466\n",
            "Epoch 19/20\n",
            "40000/40000 [==============================] - 20s 489us/step - loss: 0.2597 - acc: 0.9108 - val_loss: 0.8986 - val_acc: 0.7523\n",
            "Epoch 20/20\n",
            "40000/40000 [==============================] - 20s 489us/step - loss: 0.2071 - acc: 0.9302 - val_loss: 0.9759 - val_acc: 0.7519\n"
          ],
          "name": "stdout"
        }
      ]
    },
    {
      "cell_type": "code",
      "metadata": {
        "id": "yXR_TwKulA_q",
        "colab_type": "code",
        "outputId": "09d0c0b2-03f2-474e-8afc-60edb304cab7",
        "colab": {
          "base_uri": "https://localhost:8080/",
          "height": 286
        }
      },
      "source": [
        "#let's visualize this outcomes\n",
        "accuracy = cifar_train.history['acc']\n",
        "val_accuracy = cifar_train.history['val_acc']\n",
        "epochs = range(len(accuracy))\n",
        "plt.plot(epochs, accuracy, 'bo', label='Training accuracy')\n",
        "plt.plot(epochs, val_accuracy, 'b', label='Validation accuracy')"
      ],
      "execution_count": 0,
      "outputs": [
        {
          "output_type": "execute_result",
          "data": {
            "text/plain": [
              "[<matplotlib.lines.Line2D at 0x7f1f1077dda0>]"
            ]
          },
          "metadata": {
            "tags": []
          },
          "execution_count": 63
        },
        {
          "output_type": "display_data",
          "data": {
            "image/png": "[encoded data removed]",
            "text/plain": [
              "<Figure size 432x288 with 1 Axes>"
            ]
          },
          "metadata": {
            "tags": []
          }
        }
      ]
    },
    {
      "cell_type": "markdown",
      "metadata": {
        "id": "1UUCSZTHl7tt",
        "colab_type": "text"
      },
      "source": [
        "We clearly see that after 10 epochs overfitting happen"
      ]
    },
    {
      "cell_type": "code",
      "metadata": {
        "id": "Lgkr31istLlO",
        "colab_type": "code",
        "outputId": "1494f8c4-3619-4dea-96f0-099d83f69c6f",
        "colab": {
          "base_uri": "https://localhost:8080/",
          "height": 34
        }
      },
      "source": [
        "#now we are going to evaluate this on our testing dataset\n",
        "evaluation=model.evaluate(test_X,test_Y_onehot)"
      ],
      "execution_count": 0,
      "outputs": [
        {
          "output_type": "stream",
          "text": [
            "10000/10000 [==============================] - 3s 263us/step\n"
          ],
          "name": "stdout"
        }
      ]
    },
    {
      "cell_type": "code",
      "metadata": {
        "id": "M1sf4V1bklcu",
        "colab_type": "code",
        "outputId": "4dab2877-8e6c-44cd-90ce-337aaf17a4c8",
        "colab": {
          "base_uri": "https://localhost:8080/",
          "height": 51
        }
      },
      "source": [
        "print('Test loss:', evaluation[0])\n",
        "print('Test accuracy:', evaluation[1])"
      ],
      "execution_count": 0,
      "outputs": [
        {
          "output_type": "stream",
          "text": [
            "Test loss: 1.0366777983665467\n",
            "Test accuracy: 0.7452\n"
          ],
          "name": "stdout"
        }
      ]
    },
    {
      "cell_type": "code",
      "metadata": {
        "id": "ruELfce0kuVK",
        "colab_type": "code",
        "colab": {}
      },
      "source": [
        "#it means that on unseen dataset it gives around 74% accuracy"
      ],
      "execution_count": 0,
      "outputs": []
    },
    {
      "cell_type": "code",
      "metadata": {
        "id": "S6ruyicsk6nO",
        "colab_type": "code",
        "colab": {}
      },
      "source": [
        ""
      ],
      "execution_count": 0,
      "outputs": []
    }
  ]
}